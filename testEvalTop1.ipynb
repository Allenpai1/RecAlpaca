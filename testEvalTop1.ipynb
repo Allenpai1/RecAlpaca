{
 "cells": [
  {
   "cell_type": "code",
   "execution_count": 299,
   "metadata": {},
   "outputs": [],
   "source": [
    "import json\n",
    "with open('testSet/ML100kEvaluationRecAlpaca.json', 'r') as file:\n",
    "    data = json.load(file)"
   ]
  },
  {
   "cell_type": "code",
   "execution_count": 300,
   "metadata": {},
   "outputs": [
    {
     "data": {
      "text/plain": [
       "200"
      ]
     },
     "execution_count": 300,
     "metadata": {},
     "output_type": "execute_result"
    }
   ],
   "source": [
    "len(data)"
   ]
  },
  {
   "cell_type": "code",
   "execution_count": 301,
   "metadata": {},
   "outputs": [],
   "source": [
    "import ast\n",
    "gt = []\n",
    "for i in range(200):\n",
    "    gt.append(data[i]['testGT'])"
   ]
  },
  {
   "cell_type": "code",
   "execution_count": 302,
   "metadata": {},
   "outputs": [],
   "source": [
    "pred = []\n",
    "for i in range(200):\n",
    "    pred.append(data[i]['output2'])"
   ]
  },
  {
   "cell_type": "code",
   "execution_count": 303,
   "metadata": {},
   "outputs": [],
   "source": [
    "def Hit(A, test_set):\n",
    "    dcg = 0\n",
    "    r_i = 0\n",
    "    for i in range(len(A)):\n",
    "        \n",
    "        if A[i] in test_set:\n",
    "            r_i = 1\n",
    "            return r_i\n",
    "    return r_i"
   ]
  },
  {
   "cell_type": "code",
   "execution_count": 304,
   "metadata": {},
   "outputs": [],
   "source": [
    "import numpy as np\n",
    "import numpy as np\n",
    "from sklearn.metrics import ndcg_score\n",
    "\n",
    "def compute_precision_recall(targets, predictions, k):  \n",
    "    num_hit = [pred for pred in predictions if any(pred[:int(1*len(pred))] == tar[:int(1*len(tar))] for tar in targets)]\n",
    "    num_hit = len(num_hit)\n",
    "    precision = float(num_hit) / len(predictions)    \n",
    "    recall = float(num_hit) / len(targets)    \n",
    "    return precision, recall\n",
    "\n",
    "\n",
    "def NDCG(targets, predicitions):\n",
    "    test_movies = list(set(movie for sublist in predicitions for movie in sublist)) # unique items\n",
    "    y_score = np.zeros((len(predicitions), len(test_movies))) # convert to score\n",
    "    for i, rec_list in enumerate(predicitions):\n",
    "        for j, item in enumerate(test_movies):\n",
    "            if item in rec_list:\n",
    "                y_score[i, j] = len(test_movies) - rec_list.index(item)# get a list of scores, match and early item have higher score\n",
    "\n",
    "    # Convert test_sets to y_true\n",
    "    y_true = np.zeros((len(targets), len(test_movies)))\n",
    "    for i, test_list in enumerate(targets):\n",
    "        for j, item in enumerate(test_movies):\n",
    "            if item in test_list:\n",
    "                y_true[i, j] = 1 # if hit 1 if not 0\n",
    "    return ndcg_score(y_true, y_score, k = 5)"
   ]
  },
  {
   "cell_type": "code",
   "execution_count": 305,
   "metadata": {},
   "outputs": [],
   "source": [
    "import re\n",
    "def texta(text):\n",
    "    recommended_movies = []\n",
    "    for line in text.split('\\n'):\n",
    "        if line.startswith((\"1. \", \"2. \", \"3. \", \"4. \", \"5. \")):\n",
    "            movie = re.search(r'\\\"(.*?)\\\"', line)\n",
    "            if movie:\n",
    "                recommended_movies.append(movie.group(1))\n",
    "    return recommended_movies"
   ]
  },
  {
   "cell_type": "code",
   "execution_count": 306,
   "metadata": {},
   "outputs": [
    {
     "name": "stdout",
     "output_type": "stream",
     "text": [
      "160\n",
      "166\n",
      "172\n"
     ]
    }
   ],
   "source": [
    "import re\n",
    "pt_movies = []\n",
    "for a in range(200):\n",
    "    text = pred[a]\n",
    "    pattern =  r'\\d+\\. (.+?) -'\n",
    "    recommended_movies = re.findall(pattern, text)\n",
    "    if len(list(set(recommended_movies))) != 5:\n",
    "        recommended_movies = re.findall(r'\\d+\\.\\s(.*?)\\s\\(\\d+\\)', text)\n",
    "        if len(list(set(recommended_movies))) != 5:\n",
    "            recommended_movies = re.findall(r'\\d+\\.\\s(.*?)\\s\\(Liked\\)', text)\n",
    "            if len(list(set(recommended_movies))) != 5:\n",
    "                recommended_movies = re.findall(r'\\\"(.*?)\\\"', text)\n",
    "                if len(list(set(recommended_movies))) != 5:\n",
    "                    recommended_movies = texta(text)\n",
    "                    if len(recommended_movies) != 5:\n",
    "                        recommended_movies = re.findall(r'\\\"(.*?)\\\"', text)\n",
    "                        if len(recommended_movies) != 5:\n",
    "                            recommended_movies = re.findall(r'^\\d\\.\\s(.*?)\\s-', text, re.MULTILINE)\n",
    "                            recommended_movies = recommended_movies[:5]\n",
    "                            if len(recommended_movies) != 5:\n",
    "                                recommended_movies = re.findall(r'\\d\\.\\s(.*?)\\n', text)\n",
    "                                if len(recommended_movies) != 5:\n",
    "                                    recommended_movies = re.findall(r'\\d\\.\\s(.*?)(?:\\n|$)', text)\n",
    "                                    recommended_movies[-1] = recommended_movies[-1].replace('</s>', '')\n",
    "                                    if len(recommended_movies) != 5:\n",
    "                                        print(a)\n",
    "    titles = [title.replace('\"', '') for title in recommended_movies]\n",
    "    pt_movies.append(list(set(titles)))  "
   ]
  },
  {
   "cell_type": "code",
   "execution_count": 307,
   "metadata": {},
   "outputs": [],
   "source": [
    "m = [] \n",
    "for element in pt_movies:\n",
    "    movies_no_year = [re.sub(r' \\(\\d{4}\\)', '', movie) for movie in element]\n",
    "    movies_no_score = [re.sub(r' \\(\\d\\.\\d\\/10\\)', '', movie) for movie in movies_no_year]\n",
    "    movies_no_director = [re.sub(r' \\([^)]*\\)', '', movie) for movie in movies_no_score]\n",
    "    movie_names = [desc.split(\":\")[0] for desc in movies_no_director]\n",
    "    m.append(movie_names)"
   ]
  },
  {
   "cell_type": "code",
   "execution_count": 308,
   "metadata": {},
   "outputs": [
    {
     "name": "stdout",
     "output_type": "stream",
     "text": [
      "The NDCG@5 loss is computed to be: 0.3708149254300115\n",
      "The pre@5 loss is computed to be: 0.33366666666666717\n",
      "The recall@5 loss is computed to be: 0.1770160442286101\n"
     ]
    }
   ],
   "source": [
    "pre = 0.0\n",
    "recall = 0.0\n",
    "for i in range(200):\n",
    "    titles = m[i]\n",
    "    if titles == []:\n",
    "        continue\n",
    "    temp_pre, temp_recall = compute_precision_recall(gt[i],titles,1)\n",
    "    pre = pre + temp_pre\n",
    "    recall = recall + temp_recall\n",
    "    \n",
    "print('The NDCG@5 loss is computed to be: {}'.format(NDCG(gt,m)))\n",
    "print('The pre@5 loss is computed to be: {}'.format(pre /200))\n",
    "print('The recall@5 loss is computed to be: {}'.format(recall/200))"
   ]
  }
 ],
 "metadata": {
  "kernelspec": {
   "display_name": "Python 3.10.8 ('python_env')",
   "language": "python",
   "name": "python3"
  },
  "language_info": {
   "codemirror_mode": {
    "name": "ipython",
    "version": 3
   },
   "file_extension": ".py",
   "mimetype": "text/x-python",
   "name": "python",
   "nbconvert_exporter": "python",
   "pygments_lexer": "ipython3",
   "version": "3.10.8"
  },
  "orig_nbformat": 4,
  "vscode": {
   "interpreter": {
    "hash": "7dce496edc5d64ae6a819663e273321724104d6dec13b7a667e60e1c594c3876"
   }
  }
 },
 "nbformat": 4,
 "nbformat_minor": 2
}
